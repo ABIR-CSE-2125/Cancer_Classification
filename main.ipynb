{
 "cells": [
  {
   "cell_type": "markdown",
   "metadata": {},
   "source": [
    "### Steps\n",
    "#### Load Data -->  Pickele file\n",
    "#### Balance Data -->  SMOTE\n",
    "#### Dimentionality Reduciton -->  PCA\n",
    "#### Model Training -->  Comparision"
   ]
  },
  {
   "cell_type": "markdown",
   "metadata": {},
   "source": [
    "### Import Libraries"
   ]
  },
  {
   "cell_type": "code",
   "execution_count": 1,
   "metadata": {},
   "outputs": [],
   "source": [
    "import pandas as pd\n",
    "import numpy as np\n",
    "import matplotlib.pyplot as plt\n",
    "import seaborn as sns\n",
    "import os\n",
    "from collections import Counter\n",
    "from sklearn.model_selection import train_test_split\n",
    "from sklearn.linear_model import LogisticRegression\n",
    "from sklearn.tree import DecisionTreeClassifier\n",
    "from sklearn.ensemble import RandomForestClassifier,GradientBoostingClassifier,AdaBoostClassifier\n",
    "from xgboost import XGBClassifier \n",
    "from lightgbm import LGBMClassifier\n",
    "from sklearn.model_selection import GridSearchCV\n",
    "from sklearn.metrics import accuracy_score"
   ]
  },
  {
   "cell_type": "markdown",
   "metadata": {},
   "source": [
    "### Load Data"
   ]
  },
  {
   "cell_type": "code",
   "execution_count": 2,
   "metadata": {},
   "outputs": [],
   "source": [
    "original_csv_path_x = 'samples/data.csv'\n",
    "original_csv_path_y = 'samples/labels.csv'"
   ]
  },
  {
   "cell_type": "code",
   "execution_count": 3,
   "metadata": {},
   "outputs": [],
   "source": [
    "## serialization & deserialization for faster loading\n",
    "\n",
    "data_x = pd.read_csv(original_csv_path_x)"
   ]
  },
  {
   "cell_type": "code",
   "execution_count": 4,
   "metadata": {},
   "outputs": [],
   "source": [
    "data_x = data_x.drop(data_x.columns[0],axis=1)"
   ]
  },
  {
   "cell_type": "code",
   "execution_count": 5,
   "metadata": {},
   "outputs": [
    {
     "data": {
      "text/html": [
       "<div>\n",
       "<style scoped>\n",
       "    .dataframe tbody tr th:only-of-type {\n",
       "        vertical-align: middle;\n",
       "    }\n",
       "\n",
       "    .dataframe tbody tr th {\n",
       "        vertical-align: top;\n",
       "    }\n",
       "\n",
       "    .dataframe thead th {\n",
       "        text-align: right;\n",
       "    }\n",
       "</style>\n",
       "<table border=\"1\" class=\"dataframe\">\n",
       "  <thead>\n",
       "    <tr style=\"text-align: right;\">\n",
       "      <th></th>\n",
       "      <th>gene_0</th>\n",
       "      <th>gene_1</th>\n",
       "      <th>gene_2</th>\n",
       "      <th>gene_3</th>\n",
       "      <th>gene_4</th>\n",
       "      <th>gene_5</th>\n",
       "      <th>gene_6</th>\n",
       "      <th>gene_7</th>\n",
       "      <th>gene_8</th>\n",
       "      <th>gene_9</th>\n",
       "      <th>...</th>\n",
       "      <th>gene_20521</th>\n",
       "      <th>gene_20522</th>\n",
       "      <th>gene_20523</th>\n",
       "      <th>gene_20524</th>\n",
       "      <th>gene_20525</th>\n",
       "      <th>gene_20526</th>\n",
       "      <th>gene_20527</th>\n",
       "      <th>gene_20528</th>\n",
       "      <th>gene_20529</th>\n",
       "      <th>gene_20530</th>\n",
       "    </tr>\n",
       "  </thead>\n",
       "  <tbody>\n",
       "    <tr>\n",
       "      <th>0</th>\n",
       "      <td>0.0</td>\n",
       "      <td>2.017209</td>\n",
       "      <td>3.265527</td>\n",
       "      <td>5.478487</td>\n",
       "      <td>10.431999</td>\n",
       "      <td>0.0</td>\n",
       "      <td>7.175175</td>\n",
       "      <td>0.591871</td>\n",
       "      <td>0.0</td>\n",
       "      <td>0.0</td>\n",
       "      <td>...</td>\n",
       "      <td>4.926711</td>\n",
       "      <td>8.210257</td>\n",
       "      <td>9.723516</td>\n",
       "      <td>7.220030</td>\n",
       "      <td>9.119813</td>\n",
       "      <td>12.003135</td>\n",
       "      <td>9.650743</td>\n",
       "      <td>8.921326</td>\n",
       "      <td>5.286759</td>\n",
       "      <td>0.0</td>\n",
       "    </tr>\n",
       "    <tr>\n",
       "      <th>1</th>\n",
       "      <td>0.0</td>\n",
       "      <td>0.592732</td>\n",
       "      <td>1.588421</td>\n",
       "      <td>7.586157</td>\n",
       "      <td>9.623011</td>\n",
       "      <td>0.0</td>\n",
       "      <td>6.816049</td>\n",
       "      <td>0.000000</td>\n",
       "      <td>0.0</td>\n",
       "      <td>0.0</td>\n",
       "      <td>...</td>\n",
       "      <td>4.593372</td>\n",
       "      <td>7.323865</td>\n",
       "      <td>9.740931</td>\n",
       "      <td>6.256586</td>\n",
       "      <td>8.381612</td>\n",
       "      <td>12.674552</td>\n",
       "      <td>10.517059</td>\n",
       "      <td>9.397854</td>\n",
       "      <td>2.094168</td>\n",
       "      <td>0.0</td>\n",
       "    </tr>\n",
       "    <tr>\n",
       "      <th>2</th>\n",
       "      <td>0.0</td>\n",
       "      <td>3.511759</td>\n",
       "      <td>4.327199</td>\n",
       "      <td>6.881787</td>\n",
       "      <td>9.870730</td>\n",
       "      <td>0.0</td>\n",
       "      <td>6.972130</td>\n",
       "      <td>0.452595</td>\n",
       "      <td>0.0</td>\n",
       "      <td>0.0</td>\n",
       "      <td>...</td>\n",
       "      <td>5.125213</td>\n",
       "      <td>8.127123</td>\n",
       "      <td>10.908640</td>\n",
       "      <td>5.401607</td>\n",
       "      <td>9.911597</td>\n",
       "      <td>9.045255</td>\n",
       "      <td>9.788359</td>\n",
       "      <td>10.090470</td>\n",
       "      <td>1.683023</td>\n",
       "      <td>0.0</td>\n",
       "    </tr>\n",
       "    <tr>\n",
       "      <th>3</th>\n",
       "      <td>0.0</td>\n",
       "      <td>3.663618</td>\n",
       "      <td>4.507649</td>\n",
       "      <td>6.659068</td>\n",
       "      <td>10.196184</td>\n",
       "      <td>0.0</td>\n",
       "      <td>7.843375</td>\n",
       "      <td>0.434882</td>\n",
       "      <td>0.0</td>\n",
       "      <td>0.0</td>\n",
       "      <td>...</td>\n",
       "      <td>6.076566</td>\n",
       "      <td>8.792959</td>\n",
       "      <td>10.141520</td>\n",
       "      <td>8.942805</td>\n",
       "      <td>9.601208</td>\n",
       "      <td>11.392682</td>\n",
       "      <td>9.694814</td>\n",
       "      <td>9.684365</td>\n",
       "      <td>3.292001</td>\n",
       "      <td>0.0</td>\n",
       "    </tr>\n",
       "    <tr>\n",
       "      <th>4</th>\n",
       "      <td>0.0</td>\n",
       "      <td>2.655741</td>\n",
       "      <td>2.821547</td>\n",
       "      <td>6.539454</td>\n",
       "      <td>9.738265</td>\n",
       "      <td>0.0</td>\n",
       "      <td>6.566967</td>\n",
       "      <td>0.360982</td>\n",
       "      <td>0.0</td>\n",
       "      <td>0.0</td>\n",
       "      <td>...</td>\n",
       "      <td>5.996032</td>\n",
       "      <td>8.891425</td>\n",
       "      <td>10.373790</td>\n",
       "      <td>7.181162</td>\n",
       "      <td>9.846910</td>\n",
       "      <td>11.922439</td>\n",
       "      <td>9.217749</td>\n",
       "      <td>9.461191</td>\n",
       "      <td>5.110372</td>\n",
       "      <td>0.0</td>\n",
       "    </tr>\n",
       "  </tbody>\n",
       "</table>\n",
       "<p>5 rows × 20531 columns</p>\n",
       "</div>"
      ],
      "text/plain": [
       "   gene_0    gene_1    gene_2    gene_3     gene_4  gene_5    gene_6  \\\n",
       "0     0.0  2.017209  3.265527  5.478487  10.431999     0.0  7.175175   \n",
       "1     0.0  0.592732  1.588421  7.586157   9.623011     0.0  6.816049   \n",
       "2     0.0  3.511759  4.327199  6.881787   9.870730     0.0  6.972130   \n",
       "3     0.0  3.663618  4.507649  6.659068  10.196184     0.0  7.843375   \n",
       "4     0.0  2.655741  2.821547  6.539454   9.738265     0.0  6.566967   \n",
       "\n",
       "     gene_7  gene_8  gene_9  ...  gene_20521  gene_20522  gene_20523  \\\n",
       "0  0.591871     0.0     0.0  ...    4.926711    8.210257    9.723516   \n",
       "1  0.000000     0.0     0.0  ...    4.593372    7.323865    9.740931   \n",
       "2  0.452595     0.0     0.0  ...    5.125213    8.127123   10.908640   \n",
       "3  0.434882     0.0     0.0  ...    6.076566    8.792959   10.141520   \n",
       "4  0.360982     0.0     0.0  ...    5.996032    8.891425   10.373790   \n",
       "\n",
       "   gene_20524  gene_20525  gene_20526  gene_20527  gene_20528  gene_20529  \\\n",
       "0    7.220030    9.119813   12.003135    9.650743    8.921326    5.286759   \n",
       "1    6.256586    8.381612   12.674552   10.517059    9.397854    2.094168   \n",
       "2    5.401607    9.911597    9.045255    9.788359   10.090470    1.683023   \n",
       "3    8.942805    9.601208   11.392682    9.694814    9.684365    3.292001   \n",
       "4    7.181162    9.846910   11.922439    9.217749    9.461191    5.110372   \n",
       "\n",
       "   gene_20530  \n",
       "0         0.0  \n",
       "1         0.0  \n",
       "2         0.0  \n",
       "3         0.0  \n",
       "4         0.0  \n",
       "\n",
       "[5 rows x 20531 columns]"
      ]
     },
     "execution_count": 5,
     "metadata": {},
     "output_type": "execute_result"
    }
   ],
   "source": [
    "data_x.head()"
   ]
  },
  {
   "cell_type": "code",
   "execution_count": 6,
   "metadata": {},
   "outputs": [],
   "source": [
    "data_x.to_pickle('x_feat.pkl')"
   ]
  },
  {
   "cell_type": "code",
   "execution_count": 7,
   "metadata": {},
   "outputs": [],
   "source": [
    "data_y = pd.read_csv(original_csv_path_y)"
   ]
  },
  {
   "cell_type": "code",
   "execution_count": 8,
   "metadata": {},
   "outputs": [
    {
     "data": {
      "text/html": [
       "<div>\n",
       "<style scoped>\n",
       "    .dataframe tbody tr th:only-of-type {\n",
       "        vertical-align: middle;\n",
       "    }\n",
       "\n",
       "    .dataframe tbody tr th {\n",
       "        vertical-align: top;\n",
       "    }\n",
       "\n",
       "    .dataframe thead th {\n",
       "        text-align: right;\n",
       "    }\n",
       "</style>\n",
       "<table border=\"1\" class=\"dataframe\">\n",
       "  <thead>\n",
       "    <tr style=\"text-align: right;\">\n",
       "      <th></th>\n",
       "      <th>Unnamed: 0</th>\n",
       "      <th>Class</th>\n",
       "    </tr>\n",
       "  </thead>\n",
       "  <tbody>\n",
       "    <tr>\n",
       "      <th>0</th>\n",
       "      <td>sample_0</td>\n",
       "      <td>PRAD</td>\n",
       "    </tr>\n",
       "    <tr>\n",
       "      <th>1</th>\n",
       "      <td>sample_1</td>\n",
       "      <td>LUAD</td>\n",
       "    </tr>\n",
       "    <tr>\n",
       "      <th>2</th>\n",
       "      <td>sample_2</td>\n",
       "      <td>PRAD</td>\n",
       "    </tr>\n",
       "    <tr>\n",
       "      <th>3</th>\n",
       "      <td>sample_3</td>\n",
       "      <td>PRAD</td>\n",
       "    </tr>\n",
       "    <tr>\n",
       "      <th>4</th>\n",
       "      <td>sample_4</td>\n",
       "      <td>BRCA</td>\n",
       "    </tr>\n",
       "  </tbody>\n",
       "</table>\n",
       "</div>"
      ],
      "text/plain": [
       "  Unnamed: 0 Class\n",
       "0   sample_0  PRAD\n",
       "1   sample_1  LUAD\n",
       "2   sample_2  PRAD\n",
       "3   sample_3  PRAD\n",
       "4   sample_4  BRCA"
      ]
     },
     "execution_count": 8,
     "metadata": {},
     "output_type": "execute_result"
    }
   ],
   "source": [
    "data_y.head()"
   ]
  },
  {
   "cell_type": "code",
   "execution_count": 9,
   "metadata": {},
   "outputs": [],
   "source": [
    "data_y = data_y.drop(data_y.columns[0],axis=1)"
   ]
  },
  {
   "cell_type": "code",
   "execution_count": 10,
   "metadata": {},
   "outputs": [],
   "source": [
    "data_y.to_pickle('y_feat.pkl')"
   ]
  },
  {
   "cell_type": "markdown",
   "metadata": {},
   "source": [
    "### Balacing the data"
   ]
  },
  {
   "cell_type": "code",
   "execution_count": 11,
   "metadata": {},
   "outputs": [],
   "source": [
    "x = pd.read_pickle('x_feat.pkl')\n",
    "y = pd.read_pickle('y_feat.pkl')"
   ]
  },
  {
   "cell_type": "code",
   "execution_count": 12,
   "metadata": {},
   "outputs": [
    {
     "name": "stdout",
     "output_type": "stream",
     "text": [
      "BRCA\n",
      "KIRC\n",
      "LUAD\n",
      "PRAD\n",
      "COAD\n"
     ]
    }
   ],
   "source": [
    "freq = y.value_counts()\n",
    "# print(freq.index)\n",
    "labels = []\n",
    "\n",
    "for e in freq.index:\n",
    "    print(e[0])\n",
    "    labels.append(e[0])"
   ]
  },
  {
   "cell_type": "code",
   "execution_count": 13,
   "metadata": {},
   "outputs": [
    {
     "data": {
      "text/plain": [
       "array([300, 146, 141, 136,  78])"
      ]
     },
     "execution_count": 13,
     "metadata": {},
     "output_type": "execute_result"
    }
   ],
   "source": [
    "freq.values"
   ]
  },
  {
   "cell_type": "code",
   "execution_count": 14,
   "metadata": {},
   "outputs": [
    {
     "name": "stderr",
     "output_type": "stream",
     "text": [
      "/var/folders/hd/25__q2rn1yb9855zckz30xrm0000gn/T/ipykernel_48789/1897865952.py:6: FutureWarning: \n",
      "\n",
      "Passing `palette` without assigning `hue` is deprecated and will be removed in v0.14.0. Assign the `x` variable to `hue` and set `legend=False` for the same effect.\n",
      "\n",
      "  sns.barplot(x=labels, y=counts, palette=\"viridis\")\n"
     ]
    },
    {
     "data": {
      "image/png": "[encoded data removed]",
      "text/plain": [
       "<Figure size 1000x500 with 1 Axes>"
      ]
     },
     "metadata": {},
     "output_type": "display_data"
    }
   ],
   "source": [
    "# Convert the index and values of `freq` into separate variables\n",
    "counts = freq.values\n",
    "\n",
    "# Plot using Seaborn\n",
    "plt.figure(figsize=(10, 5))  # Set the figure size\n",
    "sns.barplot(x=labels, y=counts, palette=\"viridis\")\n",
    "\n",
    "# Add labels and title\n",
    "plt.xlabel('Categories')\n",
    "plt.ylabel('Frequency')\n",
    "plt.title('Frequency Distribution')\n",
    "plt.xticks(rotation=45)  # Rotate x-axis labels if needed\n",
    "plt.tight_layout()\n",
    "\n",
    "# Show the plot\n",
    "plt.show()"
   ]
  },
  {
   "cell_type": "markdown",
   "metadata": {},
   "source": [
    "### Remarks : There is imbalance in the data"
   ]
  },
  {
   "cell_type": "code",
   "execution_count": 15,
   "metadata": {},
   "outputs": [
    {
     "data": {
      "text/plain": [
       "Counter({'BRCA': 300, 'KIRC': 146, 'LUAD': 141, 'PRAD': 136, 'COAD': 78})"
      ]
     },
     "execution_count": 15,
     "metadata": {},
     "output_type": "execute_result"
    }
   ],
   "source": [
    "Counter(y.iloc[:,0])"
   ]
  },
  {
   "cell_type": "code",
   "execution_count": 17,
   "metadata": {},
   "outputs": [
    {
     "name": "stdout",
     "output_type": "stream",
     "text": [
      "Original class distribution: Counter({'BRCA': 300, 'KIRC': 146, 'LUAD': 141, 'PRAD': 136, 'COAD': 78})\n"
     ]
    }
   ],
   "source": [
    "from imblearn.over_sampling import SMOTE\n",
    "# Check original class distribution\n",
    "print(\"Original class distribution:\", Counter(y.iloc[:,0]))\n",
    "\n",
    "# Apply SMOTE\n",
    "smote = SMOTE(sampling_strategy = 'not majority',random_state=42)\n",
    "X_resampled, y_resampled = smote.fit_resample(x, y)\n",
    "\n",
    "# Check new class distribution\n"
   ]
  },
  {
   "cell_type": "code",
   "execution_count": 18,
   "metadata": {},
   "outputs": [
    {
     "name": "stdout",
     "output_type": "stream",
     "text": [
      "Resampled class distribution: Counter({'PRAD': 300, 'LUAD': 300, 'BRCA': 300, 'KIRC': 300, 'COAD': 300})\n"
     ]
    }
   ],
   "source": [
    "print(\"Resampled class distribution:\", Counter(y_resampled.iloc[:,0]))\n"
   ]
  },
  {
   "cell_type": "markdown",
   "metadata": {},
   "source": [
    "### Dimentionality Reduction"
   ]
  },
  {
   "cell_type": "code",
   "execution_count": 19,
   "metadata": {},
   "outputs": [],
   "source": [
    "from sklearn.decomposition import PCA\n",
    "from sklearn.preprocessing import StandardScaler"
   ]
  },
  {
   "cell_type": "code",
   "execution_count": 20,
   "metadata": {},
   "outputs": [],
   "source": [
    "scaler = StandardScaler()\n",
    "X_scaled = scaler.fit_transform(X_resampled)  # Standardize the dataset\n"
   ]
  },
  {
   "cell_type": "code",
   "execution_count": 21,
   "metadata": {},
   "outputs": [
    {
     "name": "stdout",
     "output_type": "stream",
     "text": [
      "Original shape: (1500, 20531)\n",
      "Reduced shape: (1500, 8)\n"
     ]
    }
   ],
   "source": [
    "pca = PCA(n_components=8)  \n",
    "X_pca = pca.fit_transform(X_scaled)\n",
    "\n",
    "print(f\"Original shape: {X_scaled.shape}\")\n",
    "print(f\"Reduced shape: {X_pca.shape}\")\n"
   ]
  },
  {
   "cell_type": "code",
   "execution_count": 22,
   "metadata": {},
   "outputs": [],
   "source": [
    "from sklearn.preprocessing import LabelEncoder\n",
    "le = LabelEncoder()"
   ]
  },
  {
   "cell_type": "code",
   "execution_count": 23,
   "metadata": {},
   "outputs": [
    {
     "name": "stderr",
     "output_type": "stream",
     "text": [
      "/Users/abirbera/Developer/college/projects/Major_project/.venv/lib/python3.12/site-packages/sklearn/preprocessing/_label.py:114: DataConversionWarning: A column-vector y was passed when a 1d array was expected. Please change the shape of y to (n_samples, ), for example using ravel().\n",
      "  y = column_or_1d(y, warn=True)\n"
     ]
    }
   ],
   "source": [
    "y_data = le.fit_transform(y_resampled)"
   ]
  },
  {
   "cell_type": "markdown",
   "metadata": {},
   "source": [
    "### Model training"
   ]
  },
  {
   "cell_type": "code",
   "execution_count": 24,
   "metadata": {},
   "outputs": [],
   "source": [
    "def model_performace(name,model, params,x_train,y_train,x_test,y_test):\n",
    "    grid_search = GridSearchCV(estimator=model, param_grid=params, cv=5, scoring='accuracy')\n",
    "    grid_search.fit(x_train,y_train)\n",
    "    y_pred = grid_search.predict(x_test)\n",
    "    accuracy = accuracy_score(y_test,y_pred)\n",
    "    return accuracy"
   ]
  },
  {
   "cell_type": "code",
   "execution_count": 26,
   "metadata": {},
   "outputs": [],
   "source": [
    "### Model List\n",
    "lgr = LogisticRegression()\n",
    "rf = RandomForestClassifier()\n",
    "adb = AdaBoostClassifier()\n",
    "xgb = XGBClassifier()\n",
    "lgb = LGBMClassifier()\n",
    "gb = GradientBoostingClassifier()"
   ]
  },
  {
   "cell_type": "code",
   "execution_count": 27,
   "metadata": {},
   "outputs": [],
   "source": [
    "## params for LR\n",
    "param_grid_lr = {\n",
    "    'C': [0.01, 0.1, 1],\n",
    "    'solver': ['newton-cg', 'lbfgs'],\n",
    "    'penalty': ['l2'],\n",
    "}"
   ]
  },
  {
   "cell_type": "code",
   "execution_count": 28,
   "metadata": {},
   "outputs": [],
   "source": [
    "## params for RF\n",
    "param_grid_rf ={\n",
    "    'criterion':[\"gini\",\"entropy\"],\n",
    "    \"max_depth\":[1,3,5,8,],\n",
    "    'max_features': [None, 'sqrt', 'log2']  # Number of features to consider when looking for the best split\n",
    "}"
   ]
  },
  {
   "cell_type": "code",
   "execution_count": 29,
   "metadata": {},
   "outputs": [],
   "source": [
    "## Params for AB\n",
    "param_grid_AB = {\n",
    "    'n_estimators':[1,20,50,100],\n",
    "    'learning_rate':[0.001,0.01,0.1,1.0]\n",
    "}"
   ]
  },
  {
   "cell_type": "code",
   "execution_count": 30,
   "metadata": {},
   "outputs": [],
   "source": [
    "## params for GB\n",
    "param_grid_GB = {\n",
    "    'loss':['log_loss','exponential'],\n",
    "    'n_estimators': [10,50,100],\n",
    "    'learning_rate':[0.01,0.1,1]\n",
    "}"
   ]
  },
  {
   "cell_type": "code",
   "execution_count": null,
   "metadata": {},
   "outputs": [],
   "source": [
    "## params for SVM\n",
    "# param_grid_svm = {\n",
    "#     'C': [0.01, 0.1, 1, 10, 100],  # Regularization parameter\n",
    "#     'kernel': ['linear', 'rbf', 'poly'],  # Kernel types\n",
    "#     'gamma': ['scale', 'auto'],  # Kernel coefficient\n",
    "#     'degree': [2, 3, 4],  # Only for 'poly' kernel\n",
    "#     'shrinking': [True, False],  # Whether to use shrinking heuristic\n",
    "#     'class_weight': [None, 'balanced'],  # Handling imbalanced classes\n",
    "# }"
   ]
  },
  {
   "cell_type": "code",
   "execution_count": null,
   "metadata": {},
   "outputs": [],
   "source": [
    "## params for NB\n",
    "# param_grid_nb = {\n",
    "# }"
   ]
  },
  {
   "cell_type": "code",
   "execution_count": 31,
   "metadata": {},
   "outputs": [],
   "source": [
    "param_grid_XGB = { \n",
    "    'n_estimators': [20, 50,100],           \n",
    "    'learning_rate': [0.01, 0.1, 0.2],           \n",
    "    'max_depth': [3, 6, 10],                      \n",
    "    'eval_metric':['mlogloss','logloss']}"
   ]
  },
  {
   "cell_type": "code",
   "execution_count": 32,
   "metadata": {},
   "outputs": [],
   "source": [
    "param_grid_lgb = {\n",
    "'num_leaves' : [50,70,100],\n",
    "'objective':['multiclass','multiclassova'],\n",
    "'max_depth': [3, 6, 8],                \n",
    "}"
   ]
  },
  {
   "cell_type": "code",
   "execution_count": 33,
   "metadata": {},
   "outputs": [],
   "source": [
    "models = [\n",
    "    { 'name': 'LR',\n",
    "        'model': lgr,\n",
    "        'params' : param_grid_lr\n",
    "    },\n",
    "    { 'name': 'RF',\n",
    "        'model': rf,\n",
    "        'params' : param_grid_rf\n",
    "    },\n",
    "    { 'name': 'GB',\n",
    "        'model': gb,\n",
    "        'params' : param_grid_GB\n",
    "    },\n",
    "    { 'name': 'XGB',\n",
    "        'model': xgb,\n",
    "        'params' : param_grid_XGB\n",
    "    },\n",
    "    { 'name': 'AB',\n",
    "        'model': adb,\n",
    "        'params' : param_grid_AB\n",
    "    },\n",
    "    { 'name': 'LGBM',\n",
    "        'model': lgb,\n",
    "        'params' : param_grid_lgb\n",
    "    },\n",
    "]"
   ]
  },
  {
   "cell_type": "code",
   "execution_count": 34,
   "metadata": {},
   "outputs": [],
   "source": [
    "test_sizes = [0.1,0.25,0.33,0.4,0.50]"
   ]
  },
  {
   "cell_type": "code",
   "execution_count": null,
   "metadata": {},
   "outputs": [],
   "source": [
    "result = []\n",
    "for test_size in test_sizes:\n",
    "    x_train, x_test, y_train, y_test = train_test_split(X_pca, y_data,test_size= test_size,random_state=42)\n",
    "    x_train1, x_val, y_train1, y_val = train_test_split(x_train, y_train,test_size= 0.10,random_state=42)\n",
    "    test_accuracy_list = []\n",
    "    train_accuracy_list = []\n",
    "    for model in models:\n",
    "        print('-' * 200)\n",
    "        test_acc = model_performace(name=model['name'],model=model['model'],params=model['params'],x_train=x_train,x_test=x_test,y_train=y_train,y_test=y_test)\n",
    "        train_acc = model_performace(name=model['name'],model=model['model'],params=model['params'],x_train=x_train,x_test=x_val,y_train=y_train,y_test=y_val)\n",
    "        test_accuracy_list.append({\n",
    "            model['name'] : test_acc\n",
    "        })\n",
    "        train_accuracy_list.append({\n",
    "            model['name'] : train_acc\n",
    "        })\n",
    "    result.append({\n",
    "        'test_size':test_size,\n",
    "        'train_accuracy': train_accuracy_list,\n",
    "        'test_accuracy' : test_accuracy_list\n",
    "    })"
   ]
  },
  {
   "cell_type": "code",
   "execution_count": 37,
   "metadata": {},
   "outputs": [
    {
     "data": {
      "text/plain": [
       "[{'test_size': 0.1,\n",
       "  'train_accuracy': [{'LR': 1.0},\n",
       "   {'RF': 1.0},\n",
       "   {'GB': 1.0},\n",
       "   {'XGB': 1.0},\n",
       "   {'AB': 0.8962962962962963},\n",
       "   {'LGBM': 1.0}],\n",
       "  'test_accuracy': [{'LR': 1.0},\n",
       "   {'RF': 1.0},\n",
       "   {'GB': 1.0},\n",
       "   {'XGB': 1.0},\n",
       "   {'AB': 0.9333333333333333},\n",
       "   {'LGBM': 1.0}]},\n",
       " {'test_size': 0.25,\n",
       "  'train_accuracy': [{'LR': 1.0},\n",
       "   {'RF': 1.0},\n",
       "   {'GB': 1.0},\n",
       "   {'XGB': 1.0},\n",
       "   {'AB': 0.8938053097345132},\n",
       "   {'LGBM': 1.0}],\n",
       "  'test_accuracy': [{'LR': 1.0},\n",
       "   {'RF': 0.9973333333333333},\n",
       "   {'GB': 0.992},\n",
       "   {'XGB': 0.992},\n",
       "   {'AB': 0.9253333333333333},\n",
       "   {'LGBM': 1.0}]},\n",
       " {'test_size': 0.33,\n",
       "  'train_accuracy': [{'LR': 1.0},\n",
       "   {'RF': 1.0},\n",
       "   {'GB': 1.0},\n",
       "   {'XGB': 1.0},\n",
       "   {'AB': 0.9108910891089109},\n",
       "   {'LGBM': 1.0}],\n",
       "  'test_accuracy': [{'LR': 0.9939393939393939},\n",
       "   {'RF': 0.9919191919191919},\n",
       "   {'GB': 0.9858585858585859},\n",
       "   {'XGB': 0.9858585858585859},\n",
       "   {'AB': 0.9151515151515152},\n",
       "   {'LGBM': 0.9878787878787879}]},\n",
       " {'test_size': 0.4,\n",
       "  'train_accuracy': [{'LR': 1.0},\n",
       "   {'RF': 1.0},\n",
       "   {'GB': 1.0},\n",
       "   {'XGB': 1.0},\n",
       "   {'AB': 0.8444444444444444},\n",
       "   {'LGBM': 1.0}],\n",
       "  'test_accuracy': [{'LR': 0.9933333333333333},\n",
       "   {'RF': 0.9933333333333333},\n",
       "   {'GB': 0.99},\n",
       "   {'XGB': 0.9883333333333333},\n",
       "   {'AB': 0.865},\n",
       "   {'LGBM': 0.9916666666666667}]},\n",
       " {'test_size': 0.5,\n",
       "  'train_accuracy': [{'LR': 1.0},\n",
       "   {'RF': 1.0},\n",
       "   {'GB': 1.0},\n",
       "   {'XGB': 1.0},\n",
       "   {'AB': 0.92},\n",
       "   {'LGBM': 1.0}],\n",
       "  'test_accuracy': [{'LR': 0.9946666666666667},\n",
       "   {'RF': 0.9933333333333333},\n",
       "   {'GB': 0.9866666666666667},\n",
       "   {'XGB': 0.98},\n",
       "   {'AB': 0.8813333333333333},\n",
       "   {'LGBM': 0.9906666666666667}]}]"
      ]
     },
     "execution_count": 37,
     "metadata": {},
     "output_type": "execute_result"
    }
   ],
   "source": [
    "result"
   ]
  },
  {
   "cell_type": "code",
   "execution_count": 38,
   "metadata": {},
   "outputs": [
    {
     "data": {
      "text/plain": [
       "{'test_size': 0.1,\n",
       " 'train_accuracy': [{'LR': 1.0},\n",
       "  {'RF': 1.0},\n",
       "  {'GB': 1.0},\n",
       "  {'XGB': 1.0},\n",
       "  {'AB': 0.8962962962962963},\n",
       "  {'LGBM': 1.0}],\n",
       " 'test_accuracy': [{'LR': 1.0},\n",
       "  {'RF': 1.0},\n",
       "  {'GB': 1.0},\n",
       "  {'XGB': 1.0},\n",
       "  {'AB': 0.9333333333333333},\n",
       "  {'LGBM': 1.0}]}"
      ]
     },
     "execution_count": 38,
     "metadata": {},
     "output_type": "execute_result"
    }
   ],
   "source": [
    "result[0]"
   ]
  },
  {
   "cell_type": "code",
   "execution_count": 43,
   "metadata": {},
   "outputs": [],
   "source": [
    "model_names = [list(item.keys())[0] for item in result[0]['train_accuracy']]"
   ]
  },
  {
   "cell_type": "code",
   "execution_count": 44,
   "metadata": {},
   "outputs": [
    {
     "data": {
      "text/plain": [
       "['LR', 'RF', 'GB', 'XGB', 'AB', 'LGBM']"
      ]
     },
     "execution_count": 44,
     "metadata": {},
     "output_type": "execute_result"
    }
   ],
   "source": [
    "model_names"
   ]
  },
  {
   "cell_type": "code",
   "execution_count": 62,
   "metadata": {},
   "outputs": [
    {
     "data": {
      "text/plain": [
       "0.9939393939393939"
      ]
     },
     "execution_count": 62,
     "metadata": {},
     "output_type": "execute_result"
    }
   ],
   "source": [
    "result[2]['test_accuracy'][0]['LR']"
   ]
  },
  {
   "cell_type": "code",
   "execution_count": 119,
   "metadata": {},
   "outputs": [
    {
     "data": {
      "text/plain": [
       "6"
      ]
     },
     "execution_count": 119,
     "metadata": {},
     "output_type": "execute_result"
    }
   ],
   "source": [
    "len(model_names)"
   ]
  },
  {
   "cell_type": "code",
   "execution_count": 120,
   "metadata": {},
   "outputs": [
    {
     "name": "stdout",
     "output_type": "stream",
     "text": [
      "model LR instance 0.1 1.0\n",
      "model LR instance 0.25 1.0\n",
      "model LR instance 0.33 0.9939393939393939\n",
      "model LR instance 0.4 0.9933333333333333\n",
      "model LR instance 0.5 0.9946666666666667\n",
      "model RF instance 0.1 1.0\n",
      "model RF instance 0.25 0.9973333333333333\n",
      "model RF instance 0.33 0.9919191919191919\n",
      "model RF instance 0.4 0.9933333333333333\n",
      "model RF instance 0.5 0.9933333333333333\n",
      "model GB instance 0.1 1.0\n",
      "model GB instance 0.25 0.992\n",
      "model GB instance 0.33 0.9858585858585859\n",
      "model GB instance 0.4 0.99\n",
      "model GB instance 0.5 0.9866666666666667\n",
      "model XGB instance 0.1 1.0\n",
      "model XGB instance 0.25 0.992\n",
      "model XGB instance 0.33 0.9858585858585859\n",
      "model XGB instance 0.4 0.9883333333333333\n",
      "model XGB instance 0.5 0.98\n",
      "model AB instance 0.1 0.9333333333333333\n",
      "model AB instance 0.25 0.9253333333333333\n",
      "model AB instance 0.33 0.9151515151515152\n",
      "model AB instance 0.4 0.865\n",
      "model AB instance 0.5 0.8813333333333333\n",
      "model LGBM instance 0.1 1.0\n",
      "model LGBM instance 0.25 1.0\n",
      "model LGBM instance 0.33 0.9878787878787879\n",
      "model LGBM instance 0.4 0.9916666666666667\n",
      "model LGBM instance 0.5 0.9906666666666667\n"
     ]
    }
   ],
   "source": [
    "mean_train_acc_list = []\n",
    "mean_test_acc_list = []\n",
    "for i in range(0,len(model_names)):\n",
    "    mean_test_acc = 0\n",
    "    mean_train_acc = 0\n",
    "    for instance in result:\n",
    "        print(f'model {model_names[i]} instance {instance['test_size']} {instance['test_accuracy'][i][model_names[i]]}')\n",
    "        mean_test_acc += instance['test_accuracy'][i][model_names[i]]\n",
    "        mean_train_acc += instance['train_accuracy'][i][model_names[i]]\n",
    "    mean_train_acc_list.append((mean_train_acc/len(result)))\n",
    "    mean_test_acc_list.append((mean_test_acc/len(result)))\n"
   ]
  },
  {
   "cell_type": "code",
   "execution_count": 121,
   "metadata": {},
   "outputs": [
    {
     "name": "stdout",
     "output_type": "stream",
     "text": [
      "['LR', 'RF', 'GB', 'XGB', 'AB', 'LGBM']\n",
      "[0.9963878787878787, 0.9951838383838384, 0.9909050505050505, 0.9892383838383839, 0.904030303030303, 0.9940424242424243]\n",
      "[0.9963878787878787, 0.9951838383838384, 0.9909050505050505, 0.9892383838383839, 0.904030303030303, 0.9940424242424243]\n"
     ]
    }
   ],
   "source": [
    "print(model_names)\n",
    "print(mean_test_acc_list)\n",
    "print(mean_test_acc_list)"
   ]
  },
  {
   "cell_type": "code",
   "execution_count": 122,
   "metadata": {},
   "outputs": [],
   "source": [
    "summary = {\n",
    "    'model' : [model for model in model_names],\n",
    "    'training accuracy' : [i for i in mean_train_acc_list],\n",
    "    'testing accuracy' : [i for i in mean_test_acc_list]\n",
    "}"
   ]
  },
  {
   "cell_type": "code",
   "execution_count": 123,
   "metadata": {},
   "outputs": [],
   "source": [
    "summary_df = pd.DataFrame(summary)"
   ]
  },
  {
   "cell_type": "code",
   "execution_count": 165,
   "metadata": {},
   "outputs": [
    {
     "data": {
      "image/png": "[encoded data removed]",
      "text/plain": [
       "<Figure size 1000x500 with 1 Axes>"
      ]
     },
     "metadata": {},
     "output_type": "display_data"
    }
   ],
   "source": [
    "x = np.arange(len(summary_df['model']))  # Create positions for bars\n",
    "width = 0.35  # Width of the bars\n",
    "\n",
    "# Create the figure and axis\n",
    "fig, ax = plt.subplots(figsize=(10, 5))\n",
    "\n",
    "# Plot training accuracy\n",
    "bars1 = ax.bar(x - width/2, summary_df['training accuracy'], width, label='Train Accuracy', color='skyblue')\n",
    "\n",
    "# Plot test accuracy\n",
    "bars2 = ax.bar(x + width/2, summary_df['testing accuracy'], width, label='Test Accuracy', color='orange')\n",
    "\n",
    "# Add labels, title, and legend\n",
    "ax.set_xlabel('Model', fontsize=12)\n",
    "ax.set_ylabel('Accuracy', fontsize=12)\n",
    "ax.set_title('Model Performance Comparison', fontsize=16)\n",
    "ax.set_xticks(x)\n",
    "ax.set_xticklabels(summary_df['model'], fontsize=10)\n",
    "ax.legend(fontsize=6)\n",
    "\n",
    "# Add a grid\n",
    "ax.grid(axis='y', linestyle='--', alpha=0.7)\n",
    "\n",
    "# Display the plot\n",
    "plt.ylim(0, 1.1)  # Ensure the y-axis covers the range 0-1\n",
    "plt.tight_layout()\n",
    "plt.show()"
   ]
  },
  {
   "cell_type": "code",
   "execution_count": 143,
   "metadata": {},
   "outputs": [],
   "source": [
    "test_acc_list_by_size = []\n",
    "train_acc_list_by_size = []\n",
    "\n",
    "\n",
    "for instance in result:\n",
    "    test_acc_by_size = 0\n",
    "    train_acc_by_size = 0\n",
    "    for item in instance['train_accuracy']:\n",
    "        train_acc_by_size += list(item.values())[0]\n",
    "        # train_acc_by_size += item.value\n",
    "    for item in instance['test_accuracy']:\n",
    "        test_acc_by_size += list(item.values())[0]\n",
    "    train_acc_by_size /= len(model_names)\n",
    "    test_acc_by_size /= len(model_names)\n",
    "    test_acc_list_by_size.append(test_acc_by_size)\n",
    "    train_acc_list_by_size.append(train_acc_by_size)\n"
   ]
  },
  {
   "cell_type": "code",
   "execution_count": 144,
   "metadata": {},
   "outputs": [
    {
     "name": "stdout",
     "output_type": "stream",
     "text": [
      "[0.9827160493827161, 0.9823008849557522, 0.9851485148514851, 0.974074074074074, 0.9866666666666667]\n",
      "[0.9888888888888889, 0.9844444444444443, 0.9767676767676768, 0.9702777777777779, 0.9711111111111111]\n"
     ]
    }
   ],
   "source": [
    "print(train_acc_list_by_size)\n",
    "print(test_acc_list_by_size)"
   ]
  },
  {
   "cell_type": "code",
   "execution_count": 164,
   "metadata": {},
   "outputs": [
    {
     "data": {
      "image/png": "[encoded data removed]",
      "text/plain": [
       "<Figure size 1000x500 with 1 Axes>"
      ]
     },
     "metadata": {},
     "output_type": "display_data"
    }
   ],
   "source": [
    "x = np.arange(len(result))  # Create positions for bars\n",
    "width = 0.35  # Width of the bars\n",
    "\n",
    "# Create the figure and axis\n",
    "fig, ax = plt.subplots(figsize=(10, 5))\n",
    "\n",
    "# Plot training accuracy\n",
    "bars1 = ax.bar(x - width/2, train_acc_list_by_size, width, label='Train Accuracy', color='#17becf')\n",
    "\n",
    "# Plot test accuracy\n",
    "bars2 = ax.bar(x + width/2, test_acc_list_by_size, width, label='Test Accuracy', color='grey')\n",
    "\n",
    "# Add labels, title, and legend\n",
    "ax.set_xlabel('Test Sizes', fontsize=12)\n",
    "ax.set_ylabel('Accuracy', fontsize=12)\n",
    "ax.set_title('Test Size Performance Comparison', fontsize=16)\n",
    "ax.set_xticks(x)\n",
    "ax.set_xticklabels(test_sizes, fontsize=10)\n",
    "ax.legend(fontsize=6)\n",
    "\n",
    "# Add a grid\n",
    "ax.grid(axis='y', linestyle='--', alpha=0.7)\n",
    "\n",
    "# Display the plot\n",
    "plt.ylim(0, 1.1)  # Ensure the y-axis covers the range 0-1\n",
    "plt.tight_layout()\n",
    "plt.show()"
   ]
  }
 ],
 "metadata": {
  "kernelspec": {
   "display_name": ".venv",
   "language": "python",
   "name": "python3"
  },
  "language_info": {
   "codemirror_mode": {
    "name": "ipython",
    "version": 3
   },
   "file_extension": ".py",
   "mimetype": "text/x-python",
   "name": "python",
   "nbconvert_exporter": "python",
   "pygments_lexer": "ipython3",
   "version": "3.12.5"
  }
 },
 "nbformat": 4,
 "nbformat_minor": 2
}
